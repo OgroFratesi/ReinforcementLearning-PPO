{
 "cells": [
  {
   "cell_type": "code",
   "execution_count": 2,
   "id": "e47069f1",
   "metadata": {},
   "outputs": [],
   "source": [
    "from time import time\n",
    "from boardgame2 import ReversiEnv\n",
    "import numpy as np\n",
    "import pandas as pd\n",
    "from tqdm import tqdm\n",
    "import tensorflow as tf\n",
    "from tensorflow import keras\n",
    "from mcts import mcts, randomPolicy\n",
    "from reversi_state import ReversiState"
   ]
  },
  {
   "cell_type": "markdown",
   "id": "55e8dd61-a1b5-44ff-a7fd-215d3c6bdee2",
   "metadata": {},
   "source": [
    "# Crear un TorchPlayer\n"
   ]
  },
  {
   "cell_type": "markdown",
   "id": "9e8578ae-4e1f-482b-9113-c273bdc35f8c",
   "metadata": {},
   "source": [
    "Recibe el modelo a instanciar como path y juega con el mismo"
   ]
  },
  {
   "cell_type": "markdown",
   "id": "5d709faf-8879-4ddd-95f9-4a5ee0e5b74e",
   "metadata": {},
   "source": [
    "- Pensar como resolver el problema de que solo samplee las válidas\n",
    "- Agregarle la opción de monte carlo tree search (opcional) con las opciones de iterationLimit, timeLimit\n",
    "\n",
    "Si va a agregar MCTS mirar la notebook 007_MCTS.ipnb"
   ]
  },
  {
   "cell_type": "code",
   "execution_count": 12,
   "id": "84f5c470-4dc9-4be9-8222-6c7df3b97e55",
   "metadata": {},
   "outputs": [],
   "source": [
    "class mctcPlayer():\n",
    "\n",
    "    def __init__(self, model_path, player=1, board_shape=None, env=None, deterministic=True, only_valid=True, mcts=False, iterationLimit=None, timeLimit=None):\n",
    "        # we load our dictionary we generated with policy gradient\n",
    "        self.model = tf.keras.models.load_model(model_path, compile=False)\n",
    "        if env is None:\n",
    "            env = ReversiEnv(board_shape=board_shape)\n",
    "        self.player = player\n",
    "        self.env = env\n",
    "        self.board_shape = board_shape\n",
    "\n",
    "    \n",
    "    \n",
    "    def predict(self, board):\n",
    "        board_predict = board.reshape(1,self.board_shape ** 2) *self.player\n",
    "        p = self.model.predict([board_predict, self.DUMMY_VAL, self.DUMMY_ACT])\n",
    "        valid_actions = self.get_actions_mask(board)\n",
    "        mask_prob = p.reshape(valid_actions.shape)*valid_actions\n",
    "        mask_prob = mask_prob/np.sum(mask_prob)\n",
    "        action = np.argmax(mask_prob)\n",
    "        action = self.encode_action(action)\n",
    "        return action\n",
    "    \n",
    "    def encode_action(self, action):\n",
    "        return [action // 4, action % 4]\n",
    "\n",
    "    def get_actions_mask(self, board):\n",
    "        player = 1\n",
    "        valid_actions = env.get_valid((board, player))\n",
    "        return valid_actions.reshape(-1)  "
   ]
  },
  {
   "cell_type": "code",
   "execution_count": 3,
   "id": "88336689",
   "metadata": {},
   "outputs": [],
   "source": [
    "env = ReversiEnv(board_shape=8)"
   ]
  },
  {
   "cell_type": "code",
   "execution_count": 4,
   "id": "d3d6341f",
   "metadata": {},
   "outputs": [],
   "source": [
    "board, player = env.reset()"
   ]
  },
  {
   "cell_type": "code",
   "execution_count": null,
   "id": "5b0e6b4a",
   "metadata": {},
   "outputs": [],
   "source": []
  },
  {
   "cell_type": "code",
   "execution_count": 16,
   "id": "b0d1f729",
   "metadata": {},
   "outputs": [
    {
     "data": {
      "text/plain": [
       "[7, 1]"
      ]
     },
     "execution_count": 16,
     "metadata": {},
     "output_type": "execute_result"
    }
   ],
   "source": [
    "gp.predict(board)"
   ]
  }
 ],
 "metadata": {
  "kernelspec": {
   "display_name": "Python 3",
   "language": "python",
   "name": "python3"
  },
  "language_info": {
   "codemirror_mode": {
    "name": "ipython",
    "version": 3
   },
   "file_extension": ".py",
   "mimetype": "text/x-python",
   "name": "python",
   "nbconvert_exporter": "python",
   "pygments_lexer": "ipython3",
   "version": "3.8.8"
  }
 },
 "nbformat": 4,
 "nbformat_minor": 5
}
