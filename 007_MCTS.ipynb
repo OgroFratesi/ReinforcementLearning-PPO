{
 "cells": [
  {
   "cell_type": "code",
   "execution_count": 1,
   "id": "a18fe03f-53fc-45fd-90c7-e87f243bdd0c",
   "metadata": {},
   "outputs": [],
   "source": [
    "%load_ext autoreload\n",
    "%autoreload 2"
   ]
  },
  {
   "cell_type": "code",
   "execution_count": 14,
   "id": "b816888e-dfa2-434b-b79f-e18997c44492",
   "metadata": {},
   "outputs": [],
   "source": [
    "from mcts import mcts, randomPolicy\n",
    "from reversi_state import ReversiState\n",
    "from boardgame2 import ReversiEnv"
   ]
  },
  {
   "cell_type": "markdown",
   "id": "7bcf40cb-c598-4997-997a-f965109fe92a",
   "metadata": {},
   "source": [
    "# Ejemplo"
   ]
  },
  {
   "cell_type": "code",
   "execution_count": 2,
   "id": "652e7b6a-ea53-4322-879f-2ebc6af5efb7",
   "metadata": {},
   "outputs": [],
   "source": [
    "state = ReversiState(board_shape=4)\n",
    "searcher = mcts(iterationLimit=500, explorationConstant=0.8, rolloutPolicy=randomPolicy)\n",
    "resultDict, action = searcher.search(initialState=state, needDetails=True)"
   ]
  },
  {
   "cell_type": "code",
   "execution_count": 18,
   "id": "bfc01a6d",
   "metadata": {},
   "outputs": [
    {
     "ename": "AttributeError",
     "evalue": "'numpy.ndarray' object has no attribute 'children'",
     "output_type": "error",
     "traceback": [
      "\u001b[1;31m---------------------------------------------------------------------------\u001b[0m",
      "\u001b[1;31mAttributeError\u001b[0m                            Traceback (most recent call last)",
      "\u001b[1;32m<ipython-input-18-405cff0b9146>\u001b[0m in \u001b[0;36m<module>\u001b[1;34m\u001b[0m\n\u001b[1;32m----> 1\u001b[1;33m \u001b[0msearcher\u001b[0m\u001b[1;33m.\u001b[0m\u001b[0mgetBestChild\u001b[0m\u001b[1;33m(\u001b[0m\u001b[0mnode\u001b[0m\u001b[1;33m=\u001b[0m\u001b[0mboard\u001b[0m\u001b[1;33m,\u001b[0m \u001b[0mexplorationValue\u001b[0m\u001b[1;33m=\u001b[0m\u001b[1;36m0.8\u001b[0m\u001b[1;33m)\u001b[0m\u001b[1;33m\u001b[0m\u001b[1;33m\u001b[0m\u001b[0m\n\u001b[0m",
      "\u001b[1;32mc:\\Users\\Jfratesi\\Documents\\DeepLearning\\FProject\\mcts.py\u001b[0m in \u001b[0;36mgetBestChild\u001b[1;34m(self, node, explorationValue, verbose)\u001b[0m\n\u001b[0;32m    156\u001b[0m         \u001b[0mnode_actions\u001b[0m \u001b[1;33m=\u001b[0m \u001b[1;33m{\u001b[0m\u001b[1;33m}\u001b[0m\u001b[1;33m\u001b[0m\u001b[1;33m\u001b[0m\u001b[0m\n\u001b[0;32m    157\u001b[0m \u001b[1;33m\u001b[0m\u001b[0m\n\u001b[1;32m--> 158\u001b[1;33m         \u001b[1;32mfor\u001b[0m \u001b[0mkey\u001b[0m\u001b[1;33m,\u001b[0m \u001b[0mchild\u001b[0m \u001b[1;32min\u001b[0m \u001b[0mnode\u001b[0m\u001b[1;33m.\u001b[0m\u001b[0mchildren\u001b[0m\u001b[1;33m.\u001b[0m\u001b[0mitems\u001b[0m\u001b[1;33m(\u001b[0m\u001b[1;33m)\u001b[0m\u001b[1;33m:\u001b[0m\u001b[1;33m\u001b[0m\u001b[1;33m\u001b[0m\u001b[0m\n\u001b[0m\u001b[0;32m    159\u001b[0m             \u001b[1;31m# Calculate the value of that state\u001b[0m\u001b[1;33m\u001b[0m\u001b[1;33m\u001b[0m\u001b[1;33m\u001b[0m\u001b[0m\n\u001b[0;32m    160\u001b[0m             nodeValue = node.state.getCurrentPlayer() * child.totalReward / child.numVisits + explorationValue * math.sqrt(\n",
      "\u001b[1;31mAttributeError\u001b[0m: 'numpy.ndarray' object has no attribute 'children'"
     ]
    }
   ],
   "source": [
    "searcher.getBestChild(node=board, explorationValue=0.8)"
   ]
  },
  {
   "cell_type": "code",
   "execution_count": 17,
   "id": "13f7f856-d598-4c26-91db-df0c898e6283",
   "metadata": {},
   "outputs": [],
   "source": [
    "env = ReversiEnv(board_shape=4)\n",
    "\n",
    "(board, player) = env.reset()"
   ]
  },
  {
   "cell_type": "code",
   "execution_count": 6,
   "id": "44ef650f",
   "metadata": {},
   "outputs": [
    {
     "data": {
      "text/plain": [
       "(2, 0, 1)"
      ]
     },
     "execution_count": 6,
     "metadata": {},
     "output_type": "execute_result"
    }
   ],
   "source": [
    "valid_actions = np.argwhere(env.get_valid((board, player)) == 1)\n",
    "action = valid_actions[np.random.randint(len(valid_actions))]\n",
    "(board, player), reward, done, _ = env.step(action)"
   ]
  },
  {
   "cell_type": "markdown",
   "id": "6684c4a5-7ad5-40a5-a364-30dab7dd7fad",
   "metadata": {},
   "source": [
    "# Dado el ejemplo notar:\n",
    "- se puede cortar por tiempo o por iteraciones: iterationLimit, timeLimit\n",
    "- rolloutPolicy puede recibir la policy aprendida luego de entrenar\n",
    "- La clase ReversiState ya esta creada pero analicela para entender cual es la base de la librería mcts"
   ]
  }
 ],
 "metadata": {
  "kernelspec": {
   "display_name": "Python 3",
   "language": "python",
   "name": "python3"
  },
  "language_info": {
   "codemirror_mode": {
    "name": "ipython",
    "version": 3
   },
   "file_extension": ".py",
   "mimetype": "text/x-python",
   "name": "python",
   "nbconvert_exporter": "python",
   "pygments_lexer": "ipython3",
   "version": "3.8.8"
  }
 },
 "nbformat": 4,
 "nbformat_minor": 5
}
