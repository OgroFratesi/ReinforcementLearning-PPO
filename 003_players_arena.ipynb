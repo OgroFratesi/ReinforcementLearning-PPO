{
 "cells": [
  {
   "cell_type": "code",
   "execution_count": 16,
   "id": "08877595-17b1-43e5-acda-60b6515254a5",
   "metadata": {},
   "outputs": [
    {
     "name": "stdout",
     "output_type": "stream",
     "text": [
      "The autoreload extension is already loaded. To reload it, use:\n",
      "  %reload_ext autoreload\n"
     ]
    }
   ],
   "source": [
    "%load_ext autoreload\n",
    "%autoreload 2"
   ]
  },
  {
   "cell_type": "markdown",
   "id": "c7003fe5-24d6-4689-903e-2ff8370d6acc",
   "metadata": {},
   "source": [
    "# Importar entorno y familiarizarse"
   ]
  },
  {
   "cell_type": "code",
   "execution_count": 1,
   "id": "fd1c580c-9d7a-44a0-adab-d75c9a7dcd74",
   "metadata": {},
   "outputs": [],
   "source": [
    "from boardgame2 import ReversiEnv\n",
    "import numpy as np\n",
    "from PPO import TorchPlayer"
   ]
  },
  {
   "cell_type": "markdown",
   "id": "7d9f0214-b031-431d-ab8b-5fb7bba5a64e",
   "metadata": {},
   "source": [
    "# Crear 3 tipos de jugador\n",
    "- Random: Selecciona uniformemente una de las acciones válidas\n",
    "- Greedy: Selecciona la acción que le da más ganancia inmediata (cantidad de piezas que come). Si hay más de una acción que da máxima ganancia samplear uniformemente entre ellas\n",
    "- Optimum (solo para 4x4): Usando resultados de la PI optima obtenida por policy iteration"
   ]
  },
  {
   "cell_type": "markdown",
   "id": "4f9950fc-9ebe-4d31-b733-1a13047f1b87",
   "metadata": {},
   "source": [
    "Tener en cuenta que:\n",
    "- ReversiEnv tiene los métodos get_valid y next_step y no es necesario mantener el estado del entorno\n",
    "- env.PASS ([-1,  0]) es una acción valida posible y debería hacerse cuando no get_valid devuelve una matriz de ceros"
   ]
  },
  {
   "cell_type": "markdown",
   "id": "dc3ae9f1-4f78-47e2-ac3a-1c65d57e359c",
   "metadata": {},
   "source": [
    "Para el optimo en 4x4 bajar usar la PI obtenida en la notebook anterior guardado en /mdp"
   ]
  },
  {
   "cell_type": "code",
   "execution_count": 2,
   "id": "6e8269ba-fe4f-476a-b4f1-107c379f8dcc",
   "metadata": {},
   "outputs": [],
   "source": [
    "class GreedyPlayer():\n",
    "    def __init__(self, player=1, board_shape=None, env=None, flatten_action=False):\n",
    "        if (env is None) and (board_shape is None):\n",
    "            print(\"board_shape and env can't be both None\")\n",
    "        if env is None:\n",
    "            env = ReversiEnv(board_shape=board_shape)\n",
    "        self.env = env\n",
    "        self.player = player # player number. 1 o -1\n",
    "        self.flatten_action = flatten_action\n",
    "        self.board_shape = self.env.board.shape[0]\n",
    "    \n",
    "    def predict(self, board):\n",
    "        # First we need all possible actions for the current state\n",
    "        possible_actions = self.env.get_valid((board, self.player)) \n",
    "        # We search for them\n",
    "        possible_actions = np.argwhere(possible_actions == 1)\n",
    "        if len(possible_actions) > 0:\n",
    "\n",
    "            action_points = []\n",
    "            # current points without making any step\n",
    "            current_points = board.sum() * self.player \n",
    "            for ACTION in possible_actions:\n",
    "            # We now need to run each of them so we cancompare \n",
    "                (next_board, p), reward, done, info = self.env.next_step((board, self.player), ACTION)\n",
    "                # Points we win with the action selected\n",
    "                points = (next_board.sum() * self.player)- current_points \n",
    "                action_points.append(points)\n",
    "            # Which actions make more points, there can be more than one with same points.\n",
    "            max_points = max(action_points)\n",
    "            best_actions = possible_actions[np.array(action_points)==max_points]\n",
    "            if len(best_actions) > 1:\n",
    "                # Choose one randomly \n",
    "                random_action = np.random.randint(len(best_actions))\n",
    "                action = best_actions[random_action]\n",
    "            else: \n",
    "                action = best_actions[0]\n",
    "        # If there are no actions. Just PASS\n",
    "        else:\n",
    "            action = self.env.PASS\n",
    "\n",
    "        if self.flatten_action:\n",
    "            return action[0] * self.board_shape + action[1]\n",
    "        else:\n",
    "            return action\n",
    "        \n",
    "class RandomPlayer():\n",
    "    def __init__(self, player=1, board_shape=None, env=None, flatten_action=False):\n",
    "        if (env is None) and (board_shape is None):\n",
    "            print(\"board_shape and env can't be both None\")\n",
    "        if env is None:\n",
    "            env = ReversiEnv(board_shape=board_shape)\n",
    "        self.env = env\n",
    "        self.player = player\n",
    "        self.flatten_action = flatten_action\n",
    "        self.board_shape = self.env.board.shape[0]\n",
    "    \n",
    "    def predict(self, board):\n",
    "      # First we need all possible actions for the current state\n",
    "        possible_actions = self.env.get_valid((board, self.player)) \n",
    "        # We search for them\n",
    "        possible_actions = np.argwhere(possible_actions == 1)\n",
    "        if len(possible_actions) > 0:\n",
    "            # We now take a random action\n",
    "            random_action = np.random.randint(len(possible_actions))\n",
    "            action = possible_actions[random_action]\n",
    "        else:\n",
    "            action = self.env.PASS\n",
    "        if self.flatten_action:\n",
    "            return action[0] * self.board_shape + action[1]\n",
    "        else:\n",
    "            return action\n",
    "        \n",
    "\n",
    "class DictPolicyPlayer():\n",
    "    def __init__(self, player=1, board_shape=4, env=None, flatten_action=False, dict_folder='mdp/pi_mdp.npy'):\n",
    "        # we load our dictionary we generated with policy gradient\n",
    "        self.pi_dict = np.load(dict_folder, allow_pickle=True).item()\n",
    "        if env is None:\n",
    "            env = ReversiEnv(board_shape=board_shape)\n",
    "        self.player = player\n",
    "        self.env = env\n",
    "        self.flatten_action = flatten_action\n",
    "        self.board_shape = board_shape\n",
    "    \n",
    "    def predict(self, board):\n",
    "        possible_actions = self.env.get_valid((board, self.player)) \n",
    "        possible_actions = np.argwhere(possible_actions == 1)\n",
    "        if len(possible_actions) > 0:\n",
    "            # If there ir a valid action for that state, we look up in the dictionary which is the best one\n",
    "            action = self.pi_dict[tuple((board*self.player).reshape(-1)) ]\n",
    "            action = np.array(action)\n",
    "        else:\n",
    "            action = np.array([-1, 0])\n",
    "        if self.flatten_action:\n",
    "            return action[0] * self.board_shape + action[1]\n",
    "        else:\n",
    "            return action"
   ]
  },
  {
   "cell_type": "code",
   "execution_count": 3,
   "id": "6c3d0d3e-81d5-4138-ad47-e219dcc2f4b2",
   "metadata": {},
   "outputs": [],
   "source": [
    "gp = GreedyPlayer(player=1, board_shape=4)\n",
    "rp = RandomPlayer(player=1, board_shape=4)\n",
    "value_it = DictPolicyPlayer(player=1,board_shape=4)\n"
   ]
  },
  {
   "cell_type": "markdown",
   "id": "c838c900-4efb-45f5-acdd-241f867e825e",
   "metadata": {},
   "source": [
    "# Verificar que el pass funciona OK"
   ]
  },
  {
   "cell_type": "markdown",
   "id": "63a0e973-3682-480a-9f69-3b381d73cda9",
   "metadata": {},
   "source": [
    "# Completar la función que dado dos jugadores imprima estadísticas de las partidas"
   ]
  },
  {
   "cell_type": "code",
   "execution_count": 5,
   "id": "bef78de3-e74b-41bb-b612-dcab6ec8ab6d",
   "metadata": {},
   "outputs": [],
   "source": [
    "def arena_stats(Player_1, Player_2, board_shape, N=500):\n",
    "    \n",
    "    env = ReversiEnv(board_shape=board_shape)\n",
    "    wins_as_first = 0\n",
    "    wins_as_second = 0\n",
    "    plays_as_first = 0\n",
    "    plays_as_second = 0\n",
    "    total_steps = 0\n",
    "    # Instanciate both players as player 1, then we randomly choose who start first\n",
    "    player_1 = Player_1(player=1, board_shape=board_shape, flatten_action=False)\n",
    "    player_2 = Player_2(player=1, board_shape=board_shape, flatten_action=False)\n",
    "    for _ in range(N):\n",
    "        first_player = np.random.choice([-1, 1])\n",
    "        # We now change in which order will play each player\n",
    "        player_1.player = first_player\n",
    "        player_2.player = -first_player\n",
    "        # Count how many times our first_player plays as first and second   \n",
    "        plays_as_first = plays_as_first + (first_player == 1)\n",
    "        plays_as_second = plays_as_second + (first_player == -1)\n",
    "        \n",
    "        done = False\n",
    "        n_steps = 0\n",
    "        (board, player) = env.reset()\n",
    "        \n",
    "        while not done:\n",
    "            # for both player we pass the board as parameter and just predict the next action\n",
    "            if first_player == player:\n",
    "                action = player_1.predict(board)\n",
    "            else:\n",
    "                action = player_2.predict(board)\n",
    "            (board, player), reward, done, info = env.step(action)\n",
    "            n_steps = n_steps + 1\n",
    "        # Save info of the games\n",
    "        total_steps = total_steps + n_steps\n",
    "        wins_as_first = wins_as_first + (reward == first_player) * (first_player == 1)\n",
    "        wins_as_second = wins_as_second + (reward == first_player) * (first_player == -1)\n",
    "\n",
    "    print(f'Wins as first: {wins_as_first/plays_as_first}')\n",
    "    print(f'Wins as second: {wins_as_second/plays_as_second}')\n",
    "    print(f'Plays as first: {plays_as_first}')\n",
    "    print(f'Plays as second: {plays_as_second}')\n",
    "    print(f'Avg game duration: {total_steps/N}')\n",
    "    "
   ]
  },
  {
   "cell_type": "code",
   "execution_count": 86,
   "id": "0eb85b44-7c8d-4b96-a0fb-a0ab41ff75d5",
   "metadata": {},
   "outputs": [
    {
     "name": "stdout",
     "output_type": "stream",
     "text": [
      "mdp/pi_mdp.npy\n",
      "Wins as first: 0.8333333333333334\n",
      "Wins as second: 1.0\n",
      "Plays as first: 990\n",
      "Plays as second: 1010\n",
      "Avg game duration: 11.74\n"
     ]
    }
   ],
   "source": [
    "arena_stats(DictPolicyPlayer, GreedyPlayer, 4, N=2000)"
   ]
  },
  {
   "cell_type": "code",
   "execution_count": 85,
   "id": "f83803e3-b172-44f8-9f9b-413c75975a70",
   "metadata": {},
   "outputs": [
    {
     "name": "stdout",
     "output_type": "stream",
     "text": [
      "mdp/pi_mdp.npy\n",
      "Wins as first: 0.7923076923076923\n",
      "Wins as second: 1.0\n",
      "Plays as first: 520\n",
      "Plays as second: 480\n",
      "Avg game duration: 11.652\n"
     ]
    }
   ],
   "source": [
    "arena_stats(DictPolicyPlayer, RandomPlayer, 4, N=1000)"
   ]
  },
  {
   "cell_type": "code",
   "execution_count": 84,
   "id": "4a4790ea-396c-4691-925d-1e84441ea129",
   "metadata": {},
   "outputs": [
    {
     "name": "stdout",
     "output_type": "stream",
     "text": [
      "mdp/pi_mdp.npy\n",
      "Wins as first: 0.0\n",
      "Wins as second: 0.1504950495049505\n",
      "Plays as first: 495\n",
      "Plays as second: 505\n",
      "Avg game duration: 11.636\n"
     ]
    }
   ],
   "source": [
    "arena_stats(RandomPlayer, DictPolicyPlayer, 4, N=1000)"
   ]
  },
  {
   "cell_type": "code",
   "execution_count": 82,
   "id": "c157f772-2a91-40d4-83f4-6f1ca8fb9c29",
   "metadata": {},
   "outputs": [
    {
     "name": "stdout",
     "output_type": "stream",
     "text": [
      "Wins as first: 0.38811881188118813\n",
      "Wins as second: 0.5333333333333333\n",
      "Plays as first: 505\n",
      "Plays as second: 495\n",
      "Avg game duration: 11.653\n"
     ]
    }
   ],
   "source": [
    "arena_stats(RandomPlayer, GreedyPlayer, 4, N=1000)"
   ]
  },
  {
   "cell_type": "code",
   "execution_count": 5,
   "id": "3f3ee8f6-6a86-41a6-8aca-4831ca280897",
   "metadata": {},
   "outputs": [
    {
     "name": "stdout",
     "output_type": "stream",
     "text": [
      "Wins as first: 0.32142857142857145\n",
      "Wins as second: 0.625\n",
      "Plays as first: 252\n",
      "Plays as second: 248\n",
      "Avg game duration: 11.76\n"
     ]
    }
   ],
   "source": [
    "arena_stats(RandomPlayer, RandomPlayer, 4)"
   ]
  },
  {
   "cell_type": "code",
   "execution_count": 6,
   "id": "2583b3c6-a24a-4737-bf4a-a9cb114f4958",
   "metadata": {},
   "outputs": [
    {
     "name": "stdout",
     "output_type": "stream",
     "text": [
      "Wins as first: 0.3937007874015748\n",
      "Wins as second: 0.4715447154471545\n",
      "Plays as first: 254\n",
      "Plays as second: 246\n",
      "Avg game duration: 11.53\n"
     ]
    }
   ],
   "source": [
    "arena_stats(GreedyPlayer, GreedyPlayer, 4)"
   ]
  },
  {
   "cell_type": "code",
   "execution_count": 7,
   "id": "f1ae26ae-ad80-4111-8aa5-a24dd32e1773",
   "metadata": {},
   "outputs": [
    {
     "name": "stdout",
     "output_type": "stream",
     "text": [
      "Wins as first: 0.4194831013916501\n",
      "Wins as second: 0.3782696177062374\n",
      "Plays as first: 503\n",
      "Plays as second: 497\n",
      "Avg game duration: 57.889\n"
     ]
    }
   ],
   "source": [
    "arena_stats(RandomPlayer, GreedyPlayer, 8, N=1000)"
   ]
  },
  {
   "cell_type": "code",
   "execution_count": 8,
   "id": "f1ae26ae-ad80-4111-8aa5-a24dd32e1773",
   "metadata": {},
   "outputs": [
    {
     "name": "stderr",
     "output_type": "stream",
     "text": [
      "C:\\Users\\Jfratesi\\Anaconda3\\lib\\site-packages\\tensorflow\\python\\keras\\engine\\training.py:2426: UserWarning: `Model.state_updates` will be removed in a future version. This property should not be used in TensorFlow 2.0, as `updates` are applied automatically.\n",
      "  warnings.warn('`Model.state_updates` will be removed in a future version. '\n"
     ]
    },
    {
     "name": "stdout",
     "output_type": "stream",
     "text": [
      "Wins as first: 0.4782608695652174\n",
      "Wins as second: 0.46296296296296297\n",
      "Plays as first: 46\n",
      "Plays as second: 54\n",
      "Avg game duration: 59.99\n"
     ]
    }
   ],
   "source": [
    "arena_stats(TorchPlayer,RandomPlayer, 8, N=100)"
   ]
  },
  {
   "cell_type": "markdown",
   "id": "842e235c-b140-4989-8065-e03bf9fa40ca",
   "metadata": {},
   "source": [
    "# Guardar todas las clases de jugadores en un player.py para que luego se puedan importar de la siguiente forma:\n",
    "\n",
    "from players import RandomPlayer\n",
    "\n",
    "from players import GreedyPlayer"
   ]
  }
 ],
 "metadata": {
  "kernelspec": {
   "display_name": "Python 3",
   "language": "python",
   "name": "python3"
  },
  "language_info": {
   "codemirror_mode": {
    "name": "ipython",
    "version": 3
   },
   "file_extension": ".py",
   "mimetype": "text/x-python",
   "name": "python",
   "nbconvert_exporter": "python",
   "pygments_lexer": "ipython3",
   "version": "3.8.8"
  }
 },
 "nbformat": 4,
 "nbformat_minor": 5
}
